{
 "cells": [
  {
   "cell_type": "markdown",
   "id": "14344c93",
   "metadata": {},
   "source": [
    "Step 1: import libraries"
   ]
  },
  {
   "cell_type": "code",
   "execution_count": 1,
   "id": "d1654930",
   "metadata": {},
   "outputs": [],
   "source": [
    "import numpy as np"
   ]
  },
  {
   "cell_type": "code",
   "execution_count": 2,
   "id": "10636f78",
   "metadata": {},
   "outputs": [],
   "source": [
    "def simulate_gbm(s_0,mu,sigma,n_sims,T,N,randomseed =3):\n",
    "    \n",
    "    np.random.seed(randomseed)\n",
    "    \n",
    "    dt = T/N\n",
    "    dW = np.random.normal(scale = np.sqrt(dt),size = (n_sims,N))\n",
    "    W = np.cumsum(dW, axis = 1)\n",
    "    \n",
    "    time_step = np.linspace(dt,T,N)\n",
    "    time_steps = np.broadcast_to(time_step,(n_sims,N))\n",
    "    S_t = (s_0 * np.exp((mu - 0.5 * sigma ** 2)*time_steps +sigma *W))\n",
    "    S_t = np.insert(S_t, 0, s_0, axis=1)\n",
    "    \n",
    "    return  S_t"
   ]
  },
  {
   "cell_type": "code",
   "execution_count": 3,
   "id": "dc74645d",
   "metadata": {},
   "outputs": [],
   "source": [
    "def  black_scholes_analytical(S_0, K, T, r, sigma, type='call'):\n",
    "    d1 = (np.log(S_0 / K)+(r+(0.5*sigma**2)*T))/(sigma * np.sqrt(T))\n",
    "    d2 = d1 - sigma * np.sqrt(T)\n",
    "    if type == \"call\":\n",
    "        N_d1 = norm.cdf(d1, 0, 1)\n",
    "        N_d2 = norm.cdf(d2, 0, 1)\n",
    "        price = N_d1 * S_0 - N_d2 * K * np.exp(-r*T)\n",
    "    elif type ==\"put\":\n",
    "        N_d1 = norm.cdf(-d1, 0, 1)\n",
    "        N_d2 = norm.cdf(-d2, 0, 1)\n",
    "        price = K * np.exp(-r * T) * N_d2 - S_0 * N_d1\n",
    "    else:\n",
    "        raise ValueError(\"unknow type\")\n",
    "    return(price)"
   ]
  },
  {
   "cell_type": "markdown",
   "id": "72449d99",
   "metadata": {},
   "source": [
    "Step 2: set parameters"
   ]
  },
  {
   "cell_type": "code",
   "execution_count": 4,
   "id": "bb0db531",
   "metadata": {},
   "outputs": [],
   "source": [
    "S_0 = 36\n",
    "K = 40\n",
    "r = 0.06\n",
    "sigma = 0.2\n",
    "T = 1 # 1 year\n",
    "N = 50\n",
    "dt = T / N\n",
    "N_SIMS = 10 ** 5\n",
    "discount_factor = np.exp(-r * dt)\n",
    "OPTION_TYPE = \"put\"\n",
    "POLY_DEGREE = 5"
   ]
  },
  {
   "cell_type": "code",
   "execution_count": 5,
   "id": "38f0e567",
   "metadata": {},
   "outputs": [],
   "source": [
    "gbm_sims = simulate_gbm(s_0=S_0, mu=r, sigma=sigma, \n",
    "                        n_sims=N_SIMS, T=T, N=N)"
   ]
  },
  {
   "cell_type": "code",
   "execution_count": 6,
   "id": "ca85ff11",
   "metadata": {},
   "outputs": [],
   "source": [
    "payoff_matrix = np.maximum(K - gbm_sims, np.zeros_like(gbm_sims))"
   ]
  },
  {
   "cell_type": "code",
   "execution_count": 7,
   "id": "ff77c8d0",
   "metadata": {},
   "outputs": [
    {
     "data": {
      "text/plain": [
       "array([[ 4.        ,  2.10159634,  1.60008084, ..., 13.49303775,\n",
       "        15.10624192, 15.27428876],\n",
       "       [ 4.        ,  2.92376888,  1.98819159, ...,  0.44185502,\n",
       "         0.74493406,  0.        ],\n",
       "       [ 4.        ,  3.06914158,  4.36740774, ...,  2.45247003,\n",
       "         1.52345511,  0.9529216 ],\n",
       "       ...,\n",
       "       [ 4.        ,  3.48864847,  4.00122128, ...,  2.65663333,\n",
       "         1.97530336,  2.17268717],\n",
       "       [ 4.        ,  4.66674636,  3.54695151, ...,  2.74204216,\n",
       "         2.71047385,  1.53941822],\n",
       "       [ 4.        ,  6.24260565,  7.4774005 , ...,  4.87586212,\n",
       "         5.74629917,  6.1581424 ]])"
      ]
     },
     "execution_count": 7,
     "metadata": {},
     "output_type": "execute_result"
    }
   ],
   "source": [
    "payoff_matrix"
   ]
  },
  {
   "cell_type": "code",
   "execution_count": 8,
   "id": "fd54c6e9",
   "metadata": {},
   "outputs": [],
   "source": [
    "value_matrix = np.zeros_like(payoff_matrix)\n",
    "value_matrix[:, -1] = payoff_matrix[:, -1]"
   ]
  },
  {
   "cell_type": "code",
   "execution_count": 9,
   "id": "fefe0eac",
   "metadata": {},
   "outputs": [],
   "source": [
    "for t in range(N - 1, 0 , -1):\n",
    "    regression = np.polyfit(gbm_sims[:, t], \n",
    "                            value_matrix[:, t + 1] * discount_factor,\n",
    "                            POLY_DEGREE)\n",
    "    continuation_value = np.polyval(regression, gbm_sims[:, t])\n",
    "    value_matrix[:, t] = np.where(\n",
    "        payoff_matrix[:, t] > continuation_value,\n",
    "        payoff_matrix[:, t],\n",
    "        value_matrix[:, t + 1] * discount_factor)"
   ]
  },
  {
   "cell_type": "code",
   "execution_count": 10,
   "id": "68060c8b",
   "metadata": {},
   "outputs": [
    {
     "data": {
      "text/plain": [
       "4.450551012102458"
      ]
     },
     "execution_count": 10,
     "metadata": {},
     "output_type": "execute_result"
    }
   ],
   "source": [
    "option_premium = np.mean(value_matrix[:, 1] * discount_factor)\n",
    "option_premium"
   ]
  },
  {
   "cell_type": "code",
   "execution_count": 11,
   "id": "9590f04d",
   "metadata": {},
   "outputs": [],
   "source": [
    "def lsmc_american_option(S_0, K, T, N, r, sigma, n_sims, option_type, poly_degree, random_seed=42):\n",
    "    \n",
    "    dt = T / N\n",
    "    discount_factor = np.exp(-r * dt)\n",
    "    \n",
    "    ### use geometric brownian motion to get the share price simulation data\n",
    "    gbm_sims = simulate_gbm(s_0=S_0, mu=r, sigma=sigma, n_sims=N_SIMS, T=T, N=N)\n",
    "    \n",
    "    ###get option final payoff\n",
    "    if option_type == \"call\":\n",
    "        payoff_matrix = np.maximum(gbm_sims - K, np.zeros_like(gbm_sims))\n",
    "    elif option_type == \"put\":\n",
    "        payoff_matrix = np.maximum(K - gbm_sims, np.zeros_like(gbm_sims))\n",
    "\n",
    "    ###assign value to the expiry option value\n",
    "    value_matrix = np.zeros_like(payoff_matrix)\n",
    "    value_matrix[:, -1] = payoff_matrix[:, -1]\n",
    "    \n",
    "    ###get LS fitting and use the fitting and relatvie share price to get the option continuation value\n",
    "    \n",
    "    for t in range(N - 1, 0 , -1):\n",
    "        regression = np.polyfit(gbm_sims[:, t], \n",
    "                            value_matrix[:, t + 1] * discount_factor,POLY_DEGREE)\n",
    "        continuation_value = np.polyval(regression, gbm_sims[:, t])\n",
    "        value_matrix[:, t] = np.where(\n",
    "            payoff_matrix[:, t] > continuation_value,\n",
    "            payoff_matrix[:, t],\n",
    "            value_matrix[:, t + 1] * discount_factor)\n",
    "    \n",
    "    option_premium = np.mean(value_matrix[:, 1] * discount_factor)\n",
    "    return(option_premium)"
   ]
  },
  {
   "cell_type": "code",
   "execution_count": 12,
   "id": "9e77741c",
   "metadata": {},
   "outputs": [
    {
     "data": {
      "text/plain": [
       "4.450551012102458"
      ]
     },
     "execution_count": 12,
     "metadata": {},
     "output_type": "execute_result"
    }
   ],
   "source": [
    "lsmc_american_option(36, 40, 1, 50, 0.06, 0.2, 50, \"put\", 5)"
   ]
  },
  {
   "cell_type": "code",
   "execution_count": 13,
   "id": "26f0002d",
   "metadata": {},
   "outputs": [
    {
     "name": "stdout",
     "output_type": "stream",
     "text": [
      "Requirement already satisfied: quantlib in /Users/jingyuanzhang/anaconda3/lib/python3.11/site-packages (1.32)\r\n"
     ]
    }
   ],
   "source": [
    "!pip install quantlib"
   ]
  },
  {
   "cell_type": "markdown",
   "id": "4a5aa70f",
   "metadata": {},
   "source": [
    "usig quant lib to price American option"
   ]
  },
  {
   "cell_type": "code",
   "execution_count": 14,
   "id": "31e26294",
   "metadata": {},
   "outputs": [],
   "source": [
    "import QuantLib as ql"
   ]
  },
  {
   "cell_type": "markdown",
   "id": "c53f98d2",
   "metadata": {},
   "source": [
    "Quant lib offician MC American option pricing doc\n",
    "\n",
    "ql.MCAmericanEngine(GeneralizedBlackScholesProcess, traits, timeSteps=None, timeStepsPerYear=None, \n",
    "                    antitheticVariate=False, controlVariate=False, requiredSamples=None, \n",
    "                    requiredTolerance=None, maxSamples=None, seed=0, polynomOrder=2, \n",
    "                    polynomType=0, nCalibrationSamples=2048, \n",
    "                    antitheticVariateCalibration=None, seedCalibration=None)\n"
   ]
  },
  {
   "cell_type": "code",
   "execution_count": 15,
   "id": "ec6b6862",
   "metadata": {},
   "outputs": [],
   "source": [
    "today = ql.Date().todaysDate()\n",
    "riskFreeTS = ql.YieldTermStructureHandle(ql.FlatForward(today, 0.05, ql.Actual365Fixed()))\n",
    "dividendTS = ql.YieldTermStructureHandle(ql.FlatForward(today, 0.01, ql.Actual365Fixed()))\n",
    "volatility = ql.BlackVolTermStructureHandle(ql.BlackConstantVol(today, ql.NullCalendar(), 0.1, ql.Actual365Fixed()))\n",
    "initialValue = ql.QuoteHandle(ql.SimpleQuote(100))\n",
    "process = ql.BlackScholesMertonProcess(initialValue, dividendTS, riskFreeTS, volatility)\n",
    "\n",
    "steps = 200\n",
    "rng = \"pseudorandom\" # could use \"lowdiscrepancy\"\n",
    "numPaths = 100000\n",
    "\n",
    "engine = ql.MCAmericanEngine(process, rng, steps, requiredSamples=numPaths)\n"
   ]
  },
  {
   "cell_type": "code",
   "execution_count": 16,
   "id": "c01b0090",
   "metadata": {},
   "outputs": [
    {
     "name": "stdout",
     "output_type": "stream",
     "text": [
      "Time to expiry in years: 1.0027397260273974\n"
     ]
    },
    {
     "data": {
      "text/plain": [
       "4.472079660932772"
      ]
     },
     "execution_count": 16,
     "metadata": {},
     "output_type": "execute_result"
    }
   ],
   "source": [
    "day_counter = ql.Actual365Fixed()\n",
    "\n",
    "valuation_date = ql.Date(1, 1, 2020)\n",
    "expiry_date =  ql.Date(1, 1, 2021)\n",
    "ql.Settings.instance().evaluationDate = valuation_date\n",
    "\n",
    "T = day_counter.yearFraction(valuation_date, expiry_date)\n",
    "print(f'Time to expiry in years: {T}') \n",
    "\n",
    "if OPTION_TYPE == 'call':\n",
    "    option_type_ql = ql.Option.Call\n",
    "elif OPTION_TYPE == 'put':\n",
    "    option_type_ql = ql.Option.Put\n",
    "        \n",
    "exercise = ql.AmericanExercise(valuation_date, expiry_date)\n",
    "payoff = ql.PlainVanillaPayoff(option_type_ql, K)\n",
    "\n",
    "u = ql.SimpleQuote(S_0)\n",
    "r = ql.SimpleQuote(r)\n",
    "sigma = ql.SimpleQuote(sigma)\n",
    "\n",
    "underlying = ql.QuoteHandle(u)\n",
    "volatility = ql.BlackVolTermStructureHandle(\n",
    "    ql.BlackConstantVol(0, ql.TARGET(), ql.QuoteHandle(sigma), day_counter))\n",
    "risk_free_rate = ql.YieldTermStructureHandle(\n",
    "    ql.FlatForward(0, ql.TARGET(), \n",
    "                                ql.QuoteHandle(r), \n",
    "                                day_counter))\n",
    "\n",
    "bs_process = ql.BlackScholesProcess(underlying,risk_free_rate,volatility,)\n",
    "\n",
    "engine = ql.MCAmericanEngine(bs_process, 'PseudoRandom', timeSteps=N, \n",
    "                             polynomOrder=POLY_DEGREE, \n",
    "                             seedCalibration=42, \n",
    "                             requiredSamples=N_SIMS)\n",
    "\n",
    "option = ql.VanillaOption(payoff, exercise)\n",
    "option.setPricingEngine(engine)\n",
    "\n",
    "option_premium_ql = option.NPV()\n",
    "option_premium_ql\n",
    "\n"
   ]
  },
  {
   "cell_type": "code",
   "execution_count": null,
   "id": "be7c5156",
   "metadata": {},
   "outputs": [],
   "source": []
  },
  {
   "cell_type": "code",
   "execution_count": null,
   "id": "cd741105",
   "metadata": {},
   "outputs": [],
   "source": []
  }
 ],
 "metadata": {
  "kernelspec": {
   "display_name": "Python 3 (ipykernel)",
   "language": "python",
   "name": "python3"
  },
  "language_info": {
   "codemirror_mode": {
    "name": "ipython",
    "version": 3
   },
   "file_extension": ".py",
   "mimetype": "text/x-python",
   "name": "python",
   "nbconvert_exporter": "python",
   "pygments_lexer": "ipython3",
   "version": "3.11.4"
  }
 },
 "nbformat": 4,
 "nbformat_minor": 5
}
