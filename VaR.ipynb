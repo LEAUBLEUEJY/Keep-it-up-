{
 "cells": [
  {
   "cell_type": "markdown",
   "id": "98d80fc0-064b-44d8-b20b-35bf1122f5ed",
   "metadata": {
    "tags": []
   },
   "source": [
    "Value at risk\n",
    "\n",
    "\n",
    "Def: potential for loss i and the probability that the defined loss will occur. \n",
    "\n",
    "One measures VaR by assessing the amount of potential loss, the probability of occurrence for the amount of loss, and the time frame.\n",
    "\n",
    "e.g. Daily VaR 95% with 1 year lookback period （refer to 1 year market data）is 1 million USD\n",
    "     within 95% of the time the loss of the portfolio is lower or equal to 1 million USD. \n",
    "\n",
    "\n",
    "3 Methods:\n",
    "1.  Historical Method: \n",
    "    The historical method looks at one’s prior returns history \n",
    "    and orders them from worst losses to greatest gains\n",
    "    Assumption: following from the premise that past returns experience will inform future outcomes. \n",
    "\n",
    "2. Parametric VaR Method\n",
    "   Assumes that gains and losses are normally distributed. \n",
    "   This way, potential losses can be framed in terms of standard deviation events from the mean.\n",
    "   The variance-covariance method works best for risk measurement in which the distributions are known and reliably estimated. \n",
    "\n",
    "3. Monte Carlo Method\n",
    "   A third approach to VaR is to conduct a Monte Carlo simulation. \n",
    "   This technique uses computational models to simulate projected returns over hundreds or thousands of possible iterations. \n",
    "   Then, it takes the chances that a loss will occur—say, 5% of the time—and reveals the impact."
   ]
  },
  {
   "cell_type": "markdown",
   "id": "f112f945-b2be-47f1-a234-3f6df3c895de",
   "metadata": {
    "tags": []
   },
   "source": [
    "Step 1: import libraries"
   ]
  },
  {
   "cell_type": "code",
   "execution_count": 276,
   "id": "da47fb16-9c16-4168-b630-fbbfba297974",
   "metadata": {
    "tags": []
   },
   "outputs": [],
   "source": [
    "import numpy as np\n",
    "import pandas as pd\n",
    "import yfinance as yf\n",
    "from scipy.stats import norm\n",
    "import matplotlib.pyplot as plt\n",
    "from datetime import datetime\n",
    "import seaborn as sns "
   ]
  },
  {
   "cell_type": "markdown",
   "id": "cb7e153e-d1f5-4042-8cad-4f9d01039222",
   "metadata": {
    "tags": []
   },
   "source": [
    "Step 2: get raw data, use 3 stocks as example with equal weight, below is for calculate the percentage VaR"
   ]
  },
  {
   "cell_type": "code",
   "execution_count": 310,
   "id": "5b85392f-3a3e-4986-b762-aebf0a03f928",
   "metadata": {
    "tags": []
   },
   "outputs": [
    {
     "data": {
      "text/html": [
       "<div>\n",
       "<style scoped>\n",
       "    .dataframe tbody tr th:only-of-type {\n",
       "        vertical-align: middle;\n",
       "    }\n",
       "\n",
       "    .dataframe tbody tr th {\n",
       "        vertical-align: top;\n",
       "    }\n",
       "\n",
       "    .dataframe thead th {\n",
       "        text-align: right;\n",
       "    }\n",
       "</style>\n",
       "<table border=\"1\" class=\"dataframe\">\n",
       "  <thead>\n",
       "    <tr style=\"text-align: right;\">\n",
       "      <th></th>\n",
       "      <th>AAPL</th>\n",
       "      <th>GOOG</th>\n",
       "      <th>MSFT</th>\n",
       "    </tr>\n",
       "    <tr>\n",
       "      <th>Date</th>\n",
       "      <th></th>\n",
       "      <th></th>\n",
       "      <th></th>\n",
       "    </tr>\n",
       "  </thead>\n",
       "  <tbody>\n",
       "    <tr>\n",
       "      <th>2020-01-02</th>\n",
       "      <td>73.152649</td>\n",
       "      <td>68.368500</td>\n",
       "      <td>154.779510</td>\n",
       "    </tr>\n",
       "    <tr>\n",
       "      <th>2020-01-03</th>\n",
       "      <td>72.441460</td>\n",
       "      <td>68.032997</td>\n",
       "      <td>152.852249</td>\n",
       "    </tr>\n",
       "    <tr>\n",
       "      <th>2020-01-06</th>\n",
       "      <td>73.018692</td>\n",
       "      <td>69.710503</td>\n",
       "      <td>153.247345</td>\n",
       "    </tr>\n",
       "    <tr>\n",
       "      <th>2020-01-07</th>\n",
       "      <td>72.675278</td>\n",
       "      <td>69.667000</td>\n",
       "      <td>151.850067</td>\n",
       "    </tr>\n",
       "    <tr>\n",
       "      <th>2020-01-08</th>\n",
       "      <td>73.844360</td>\n",
       "      <td>70.216003</td>\n",
       "      <td>154.268814</td>\n",
       "    </tr>\n",
       "    <tr>\n",
       "      <th>...</th>\n",
       "      <td>...</td>\n",
       "      <td>...</td>\n",
       "      <td>...</td>\n",
       "    </tr>\n",
       "    <tr>\n",
       "      <th>2022-01-24</th>\n",
       "      <td>159.794235</td>\n",
       "      <td>130.371994</td>\n",
       "      <td>291.038147</td>\n",
       "    </tr>\n",
       "    <tr>\n",
       "      <th>2022-01-25</th>\n",
       "      <td>157.975037</td>\n",
       "      <td>126.735497</td>\n",
       "      <td>283.299896</td>\n",
       "    </tr>\n",
       "    <tr>\n",
       "      <th>2022-01-26</th>\n",
       "      <td>157.886047</td>\n",
       "      <td>129.240005</td>\n",
       "      <td>291.372040</td>\n",
       "    </tr>\n",
       "    <tr>\n",
       "      <th>2022-01-27</th>\n",
       "      <td>157.421356</td>\n",
       "      <td>129.121002</td>\n",
       "      <td>294.445709</td>\n",
       "    </tr>\n",
       "    <tr>\n",
       "      <th>2022-01-28</th>\n",
       "      <td>168.405853</td>\n",
       "      <td>133.289505</td>\n",
       "      <td>302.714264</td>\n",
       "    </tr>\n",
       "  </tbody>\n",
       "</table>\n",
       "<p>524 rows × 3 columns</p>\n",
       "</div>"
      ],
      "text/plain": [
       "                  AAPL        GOOG        MSFT\n",
       "Date                                          \n",
       "2020-01-02   73.152649   68.368500  154.779510\n",
       "2020-01-03   72.441460   68.032997  152.852249\n",
       "2020-01-06   73.018692   69.710503  153.247345\n",
       "2020-01-07   72.675278   69.667000  151.850067\n",
       "2020-01-08   73.844360   70.216003  154.268814\n",
       "...                ...         ...         ...\n",
       "2022-01-24  159.794235  130.371994  291.038147\n",
       "2022-01-25  157.975037  126.735497  283.299896\n",
       "2022-01-26  157.886047  129.240005  291.372040\n",
       "2022-01-27  157.421356  129.121002  294.445709\n",
       "2022-01-28  168.405853  133.289505  302.714264\n",
       "\n",
       "[524 rows x 3 columns]"
      ]
     },
     "execution_count": 310,
     "metadata": {},
     "output_type": "execute_result"
    }
   ],
   "source": [
    "def importdata(tickers,start=\"2020-01-01\",end=\"2022-01-31\"):\n",
    "    data = yf.download(tickers, \n",
    "                       start = start, end = end, \n",
    "                       progress= False)['Adj Close']\n",
    "    return(data)\n",
    "\n",
    "###Example: \n",
    "data = importdata([\"MSFT\",\"AAPL\",\"GOOG\"])\n",
    "data"
   ]
  },
  {
   "cell_type": "code",
   "execution_count": 280,
   "id": "686e5793-65eb-4460-85e8-31d0cef20051",
   "metadata": {
    "tags": []
   },
   "outputs": [
    {
     "data": {
      "text/html": [
       "<div>\n",
       "<style scoped>\n",
       "    .dataframe tbody tr th:only-of-type {\n",
       "        vertical-align: middle;\n",
       "    }\n",
       "\n",
       "    .dataframe tbody tr th {\n",
       "        vertical-align: top;\n",
       "    }\n",
       "\n",
       "    .dataframe thead th {\n",
       "        text-align: right;\n",
       "    }\n",
       "</style>\n",
       "<table border=\"1\" class=\"dataframe\">\n",
       "  <thead>\n",
       "    <tr style=\"text-align: right;\">\n",
       "      <th></th>\n",
       "      <th>AAPL</th>\n",
       "      <th>GOOG</th>\n",
       "      <th>MSFT</th>\n",
       "    </tr>\n",
       "    <tr>\n",
       "      <th>Date</th>\n",
       "      <th></th>\n",
       "      <th></th>\n",
       "      <th></th>\n",
       "    </tr>\n",
       "  </thead>\n",
       "  <tbody>\n",
       "    <tr>\n",
       "      <th>2020-01-03</th>\n",
       "      <td>-0.009722</td>\n",
       "      <td>-0.004907</td>\n",
       "      <td>-0.012452</td>\n",
       "    </tr>\n",
       "    <tr>\n",
       "      <th>2020-01-06</th>\n",
       "      <td>0.007968</td>\n",
       "      <td>0.024657</td>\n",
       "      <td>0.002585</td>\n",
       "    </tr>\n",
       "    <tr>\n",
       "      <th>2020-01-07</th>\n",
       "      <td>-0.004703</td>\n",
       "      <td>-0.000624</td>\n",
       "      <td>-0.009118</td>\n",
       "    </tr>\n",
       "    <tr>\n",
       "      <th>2020-01-08</th>\n",
       "      <td>0.016086</td>\n",
       "      <td>0.007880</td>\n",
       "      <td>0.015928</td>\n",
       "    </tr>\n",
       "    <tr>\n",
       "      <th>2020-01-09</th>\n",
       "      <td>0.021241</td>\n",
       "      <td>0.011044</td>\n",
       "      <td>0.012493</td>\n",
       "    </tr>\n",
       "  </tbody>\n",
       "</table>\n",
       "</div>"
      ],
      "text/plain": [
       "                AAPL      GOOG      MSFT\n",
       "Date                                    \n",
       "2020-01-03 -0.009722 -0.004907 -0.012452\n",
       "2020-01-06  0.007968  0.024657  0.002585\n",
       "2020-01-07 -0.004703 -0.000624 -0.009118\n",
       "2020-01-08  0.016086  0.007880  0.015928\n",
       "2020-01-09  0.021241  0.011044  0.012493"
      ]
     },
     "execution_count": 280,
     "metadata": {},
     "output_type": "execute_result"
    }
   ],
   "source": [
    "pctrtn = data.pct_change().dropna()\n",
    "pctrtn.head()"
   ]
  },
  {
   "cell_type": "code",
   "execution_count": 330,
   "id": "c29ae600-4ec4-48cc-883e-d371c4cf8f97",
   "metadata": {
    "tags": []
   },
   "outputs": [
    {
     "data": {
      "text/html": [
       "<div>\n",
       "<style scoped>\n",
       "    .dataframe tbody tr th:only-of-type {\n",
       "        vertical-align: middle;\n",
       "    }\n",
       "\n",
       "    .dataframe tbody tr th {\n",
       "        vertical-align: top;\n",
       "    }\n",
       "\n",
       "    .dataframe thead th {\n",
       "        text-align: right;\n",
       "    }\n",
       "</style>\n",
       "<table border=\"1\" class=\"dataframe\">\n",
       "  <thead>\n",
       "    <tr style=\"text-align: right;\">\n",
       "      <th></th>\n",
       "      <th>AAPL</th>\n",
       "      <th>GOOG</th>\n",
       "      <th>MSFT</th>\n",
       "      <th>Total</th>\n",
       "    </tr>\n",
       "    <tr>\n",
       "      <th>Date</th>\n",
       "      <th></th>\n",
       "      <th></th>\n",
       "      <th></th>\n",
       "      <th></th>\n",
       "    </tr>\n",
       "  </thead>\n",
       "  <tbody>\n",
       "    <tr>\n",
       "      <th>2020-01-03</th>\n",
       "      <td>-0.003241</td>\n",
       "      <td>-0.001636</td>\n",
       "      <td>-0.004151</td>\n",
       "      <td>-0.009027</td>\n",
       "    </tr>\n",
       "    <tr>\n",
       "      <th>2020-01-06</th>\n",
       "      <td>0.002656</td>\n",
       "      <td>0.008219</td>\n",
       "      <td>0.000862</td>\n",
       "      <td>0.011737</td>\n",
       "    </tr>\n",
       "    <tr>\n",
       "      <th>2020-01-07</th>\n",
       "      <td>-0.001568</td>\n",
       "      <td>-0.000208</td>\n",
       "      <td>-0.003039</td>\n",
       "      <td>-0.004815</td>\n",
       "    </tr>\n",
       "    <tr>\n",
       "      <th>2020-01-08</th>\n",
       "      <td>0.005362</td>\n",
       "      <td>0.002627</td>\n",
       "      <td>0.005309</td>\n",
       "      <td>0.013298</td>\n",
       "    </tr>\n",
       "    <tr>\n",
       "      <th>2020-01-09</th>\n",
       "      <td>0.007080</td>\n",
       "      <td>0.003681</td>\n",
       "      <td>0.004164</td>\n",
       "      <td>0.014926</td>\n",
       "    </tr>\n",
       "  </tbody>\n",
       "</table>\n",
       "</div>"
      ],
      "text/plain": [
       "                AAPL      GOOG      MSFT     Total\n",
       "Date                                              \n",
       "2020-01-03 -0.003241 -0.001636 -0.004151 -0.009027\n",
       "2020-01-06  0.002656  0.008219  0.000862  0.011737\n",
       "2020-01-07 -0.001568 -0.000208 -0.003039 -0.004815\n",
       "2020-01-08  0.005362  0.002627  0.005309  0.013298\n",
       "2020-01-09  0.007080  0.003681  0.004164  0.014926"
      ]
     },
     "execution_count": 330,
     "metadata": {},
     "output_type": "execute_result"
    }
   ],
   "source": [
    "weight = [1/3,1/3,1/3]\n",
    "histrtn = (weight * pctrtn)\n",
    "histrtn['Total'] = histrtn.sum(axis=1)\n",
    "histrtn.head()"
   ]
  },
  {
   "cell_type": "markdown",
   "id": "54aaa5ad-1757-4eeb-8757-a408d5e65002",
   "metadata": {
    "tags": []
   },
   "source": [
    "Method 1: Historical 1D 95% VaR based on 1 year historical data"
   ]
  },
  {
   "cell_type": "code",
   "execution_count": 399,
   "id": "1e0b4d51-379d-4bcd-a8d3-8f94e650dde3",
   "metadata": {
    "tags": []
   },
   "outputs": [],
   "source": [
    "def histvar(stktck,weight,startdate,enddate,confidenceinterval = 95):\n",
    "    data = importdata(stktck)\n",
    "    pctrtn = data.pct_change().dropna()\n",
    "    histrtn = (weight * pctrtn)\n",
    "    histrtn['Total'] = histrtn.sum(axis=1)\n",
    "    sns.histplot(histrtn['Total'],stat = \"probability\",kde=True)\n",
    "    historic_var = abs(np.percentile(histrtn['Total'], 100 - confidenceinterval, method=\"lower\"))\n",
    "    result = \"The simple historical \" + str(confidenceinterval) + \"% VaR is \" + \"{:.1%}\".format(historic_var)\n",
    "    return(result)"
   ]
  },
  {
   "cell_type": "code",
   "execution_count": 400,
   "id": "b3018d9c-25b4-43d6-aa39-36cb3ea98126",
   "metadata": {
    "tags": []
   },
   "outputs": [
    {
     "data": {
      "text/plain": [
       "'The simple historical 95% VaR is 2.8%'"
      ]
     },
     "execution_count": 400,
     "metadata": {},
     "output_type": "execute_result"
    },
    {
     "data": {
      "image/png": "[encoded data removed]",
      "text/plain": [
       "<Figure size 640x480 with 1 Axes>"
      ]
     },
     "metadata": {},
     "output_type": "display_data"
    }
   ],
   "source": [
    "stktck = [\"MSFT\",\"AAPL\",\"GOOG\"]\n",
    "weight = [1/3,1/3,1/3]\n",
    "startdate = \"2020-01-01\"\n",
    "enddate=\"2022-01-31\"\n",
    "histvar(stktck,weight,startdate,enddate)"
   ]
  },
  {
   "cell_type": "markdown",
   "id": "85e981d1-48b7-464b-9cb7-a7cc3f5430d7",
   "metadata": {
    "tags": []
   },
   "source": [
    "Method 2: Parametric VaR"
   ]
  },
  {
   "cell_type": "code",
   "execution_count": 334,
   "id": "011c106c-c9a1-4a44-b841-f25d144dec23",
   "metadata": {
    "tags": []
   },
   "outputs": [],
   "source": [
    "def parametricvar(stktck,weight,startdate,enddate,confidenceinterval = 95):\n",
    "    data = importdata(stktck)\n",
    "    pctrtn = data.pct_change().dropna()\n",
    "    histrtn = (weight * pctrtn)\n",
    "    histrtn['Total'] = histrtn.sum(axis=1)\n",
    "    mu = histrtn['Total'].mean()\n",
    "    sigma = histrtn['Total'].std()\n",
    "\n",
    "    # Plot the histogram. \n",
    "    plt.hist(histrtn['Total'], bins=50, density=True, alpha=0.6, color='b') \n",
    "  \n",
    "    # Plot the PDF. \n",
    "    xmin, xmax = plt.xlim() \n",
    "    x = np.linspace(xmin, xmax, 100) \n",
    "    p = norm.pdf(x, mu, sigma) \n",
    "  \n",
    "    plt.plot(x, p, 'k', linewidth=2) \n",
    "    plt.show() \n",
    "    #plt.plot(histrtn['Total'], norm.pdf(norm.pdf(histrtn['Total'], mu, sigma)))\n",
    "    Z = norm.ppf(confidenceinterval/100)\n",
    "    parametric_VaR = abs(mu - Z * sigma)\n",
    "    result = 'The parametric ' +str(confidenceinterval) + '% VaR is ' + \"{:.1%}\".format(parametric_VaR)\n",
    "    return(result)"
   ]
  },
  {
   "cell_type": "code",
   "execution_count": 335,
   "id": "518776d7-90d3-4bf5-9343-083188ad5ee7",
   "metadata": {
    "tags": []
   },
   "outputs": [
    {
     "data": {
      "image/png": "[encoded data removed]",
      "text/plain": [
       "<Figure size 640x480 with 1 Axes>"
      ]
     },
     "metadata": {},
     "output_type": "display_data"
    },
    {
     "data": {
      "text/plain": [
       "'The parametric 95% VaR is 3.1%'"
      ]
     },
     "execution_count": 335,
     "metadata": {},
     "output_type": "execute_result"
    }
   ],
   "source": [
    "stktck = [\"MSFT\",\"AAPL\",\"GOOG\"]\n",
    "weight = [1/3,1/3,1/3]\n",
    "startdate = \"2020-01-01\"\n",
    "enddate=\"2022-01-31\"\n",
    "parametricvar(stktck,weight,startdate,enddate)"
   ]
  },
  {
   "cell_type": "markdown",
   "id": "94fae421-a515-41e7-83fe-1adc3a2848c9",
   "metadata": {
    "tags": []
   },
   "source": [
    "Method 3: 1 day 95% MonteCarlo VaR (for comparable purpose)\n",
    ", normally would size 1 day into few steps for more accurate result"
   ]
  },
  {
   "cell_type": "code",
   "execution_count": 401,
   "id": "30eac5df-704c-4b25-b7b9-935b6ca64880",
   "metadata": {
    "tags": []
   },
   "outputs": [],
   "source": [
    "def mcvar(data,days,iterations,confidenceinterval = 5):\n",
    "    logreturn = np.log(1 + data.pct_change().dropna())\n",
    "    drift = logreturn.mean() - 0.5*(logreturn.std())**2\n",
    "    sigma = logreturn.std()\n",
    "    daily_rtn =np.exp(drift + sigma * norm.ppf(np.random.rand(days, iterations)))\n",
    "    mcvar = abs(1 - np.percentile(daily_rtn,100-confidenceinterval,method=\"lower\"))\n",
    "    result = 'The Monte Carlo ' +str(confidenceinterval) + '% VaR is ' + \"{:.1%}\".format(mcvar)\n",
    "    return(result)"
   ]
  },
  {
   "cell_type": "code",
   "execution_count": 402,
   "id": "37dfbe37-43e5-48da-855c-5e051c5e39f7",
   "metadata": {
    "tags": []
   },
   "outputs": [],
   "source": [
    "data = importdata([\"MSFT\",\"AAPL\",\"GOOG\"])\n",
    "weight = (pd.DataFrame(1 / 3 / data.iloc[0,:])).transpose()\n",
    "weight = weight.to_numpy()\n",
    "portvalue = (weight * data).sum(axis=1)"
   ]
  },
  {
   "cell_type": "code",
   "execution_count": 403,
   "id": "2e9e423d-652f-4a02-a068-3277a7ddbb7d",
   "metadata": {
    "tags": []
   },
   "outputs": [
    {
     "data": {
      "text/plain": [
       "'The Monte Carlo 5% VaR is 3.4%'"
      ]
     },
     "execution_count": 403,
     "metadata": {},
     "output_type": "execute_result"
    }
   ],
   "source": [
    "mcvar(portvalue, 1, 100)"
   ]
  },
  {
   "cell_type": "code",
   "execution_count": null,
   "id": "5816352c-9d86-4046-9787-e9803795bd98",
   "metadata": {},
   "outputs": [],
   "source": []
  }
 ],
 "metadata": {
  "kernelspec": {
   "display_name": "Python 3 (ipykernel)",
   "language": "python",
   "name": "python3"
  },
  "language_info": {
   "codemirror_mode": {
    "name": "ipython",
    "version": 3
   },
   "file_extension": ".py",
   "mimetype": "text/x-python",
   "name": "python",
   "nbconvert_exporter": "python",
   "pygments_lexer": "ipython3",
   "version": "3.11.4"
  }
 },
 "nbformat": 4,
 "nbformat_minor": 5
}
