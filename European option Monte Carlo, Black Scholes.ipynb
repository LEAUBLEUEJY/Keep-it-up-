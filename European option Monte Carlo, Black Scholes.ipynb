{
 "cells": [
  {
   "cell_type": "code",
   "execution_count": 2,
   "id": "bd38565c",
   "metadata": {},
   "outputs": [],
   "source": [
    "import numpy as np\n",
    "from scipy.stats import norm"
   ]
  },
  {
   "cell_type": "code",
   "execution_count": 8,
   "id": "8cb73bc8",
   "metadata": {},
   "outputs": [],
   "source": [
    "def simulate_gbm(s_0,mu,sigma,n_sims,T,N,randomseed =3):\n",
    "    np.random.seed(randomseed)\n",
    "    \n",
    "    dt = T/N\n",
    "    dW = np.random.normal(scale = np.sqrt(dt),size = (n_sims,N))\n",
    "    W = np.cumsum(dW, axis = 1)\n",
    "    \n",
    "    time_step = np.linspace(dt,T,N)\n",
    "    time_steps = np.broadcast_to(time_step,(n_sims,N))\n",
    "    S_t = (s_0 * np.exp((mu - 0.5 * sigma ** 2)*time_steps +sigma *W))\n",
    "    S_t = np.insert(S_t, 0, s_0, axis=1)\n",
    "    \n",
    "    return  S_t"
   ]
  },
  {
   "cell_type": "markdown",
   "id": "ef4bc65e",
   "metadata": {},
   "source": [
    "Step 1: set parameters"
   ]
  },
  {
   "cell_type": "code",
   "execution_count": 9,
   "id": "c666ddac",
   "metadata": {},
   "outputs": [],
   "source": [
    "S_0 = 100\n",
    "K = 100\n",
    "r = 0.05\n",
    "sigma = 0.50\n",
    "T = 1 \n",
    "N = 252 \n",
    "dt = T / N \n",
    "N_SIMS = 1_000_000 \n",
    "discount_factor = np.exp(-r * T)"
   ]
  },
  {
   "cell_type": "markdown",
   "id": "955a2fcd",
   "metadata": {},
   "source": [
    "Black scholes to price a call option"
   ]
  },
  {
   "cell_type": "code",
   "execution_count": 45,
   "id": "4e9431f7",
   "metadata": {},
   "outputs": [],
   "source": [
    "def  black_scholes_analytical(S_0, K, T, r, sigma, type='call'):\n",
    "    d1 = (np.log(S_0 / K)+(r+(0.5*sigma**2)*T))/(sigma * np.sqrt(T))\n",
    "    d2 = d1 - sigma * np.sqrt(T)\n",
    "    if type == \"call\":\n",
    "        N_d1 = norm.cdf(d1, 0, 1)\n",
    "        N_d2 = norm.cdf(d2, 0, 1)\n",
    "        price = N_d1 * S_0 - N_d2 * K * np.exp(-r*T)\n",
    "    elif type ==\"put\":\n",
    "        N_d1 = norm.cdf(-d1, 0, 1)\n",
    "        N_d2 = norm.cdf(-d2, 0, 1)\n",
    "        price = K * np.exp(-r * T) * N_d2 - S_0 * N_d1\n",
    "    else:\n",
    "        raise ValueError(\"unknow type\")\n",
    "    return(price)"
   ]
  },
  {
   "cell_type": "code",
   "execution_count": 46,
   "id": "268d6433",
   "metadata": {
    "scrolled": true
   },
   "outputs": [
    {
     "data": {
      "text/plain": [
       "21.79260421286685"
      ]
     },
     "execution_count": 46,
     "metadata": {},
     "output_type": "execute_result"
    }
   ],
   "source": [
    "black_scholes_analytical(S_0=S_0, K=K, T=T, r=r, sigma=sigma,type=\"call\")"
   ]
  },
  {
   "cell_type": "code",
   "execution_count": 47,
   "id": "7f3f7dac",
   "metadata": {},
   "outputs": [],
   "source": [
    "gbm_sims = simulate_gbm(s_0=S_0, mu=r, sigma=sigma, n_sims=N_SIMS, T=T, N=N)"
   ]
  },
  {
   "cell_type": "code",
   "execution_count": 48,
   "id": "fe4ca0a0",
   "metadata": {},
   "outputs": [
    {
     "data": {
      "text/plain": [
       "21.734629237239563"
      ]
     },
     "execution_count": 48,
     "metadata": {},
     "output_type": "execute_result"
    }
   ],
   "source": [
    "gbm_option_price = (discount_factor * np.mean(np.maximum(0, gbm_sims[:, -1] - K)))\n",
    "gbm_option_price"
   ]
  },
  {
   "cell_type": "code",
   "execution_count": 49,
   "id": "4cdc7bd7",
   "metadata": {},
   "outputs": [],
   "source": [
    "def simulate_gbm_option_european(s_0, K, T, r, sigma, n_sims, type='call',random_seed =3):\n",
    "    np.random.seed(random_seed)\n",
    "    S_T = (S_0 * np.exp((r - 0.5 * sigma ** 2)*T + sigma * np.sqrt(T) * np.random.normal(0, 1, size=n_sims)))\n",
    " \n",
    "    if type == \"call\":    \n",
    "        payoff = np.maximum(0,S_T - K)\n",
    "    elif type ==\"put\":\n",
    "        payoff = np.maximum(0,K - S_T)\n",
    "    else:\n",
    "         raise ValueError(\"unknow type\")\n",
    "            \n",
    "    optionvalue = np.exp(-r * T) * np.mean(payoff)\n",
    "    \n",
    "    return  optionvalue"
   ]
  },
  {
   "cell_type": "code",
   "execution_count": 50,
   "id": "a2951da6",
   "metadata": {},
   "outputs": [
    {
     "data": {
      "text/plain": [
       "16.868228241471794"
      ]
     },
     "execution_count": 50,
     "metadata": {},
     "output_type": "execute_result"
    }
   ],
   "source": [
    "simulate_gbm_option_european(S_0, K, T, r, sigma, N_SIMS, type=\"put\")"
   ]
  },
  {
   "cell_type": "code",
   "execution_count": 56,
   "id": "af882d5c",
   "metadata": {},
   "outputs": [],
   "source": [
    "def  black_scholes_analytical_with_greeks(S_0, K, T, r, sigma, type='call'):\n",
    "    d1 = (np.log(S_0 / K)+(r+(0.5*sigma**2)*T))/(sigma * np.sqrt(T))\n",
    "    d2 = d1 - sigma * np.sqrt(T)\n",
    "    \n",
    "    if type == \"call\":\n",
    "        N_d1 = norm.cdf(d1, 0, 1)\n",
    "        N_d2 = norm.cdf(d2, 0, 1)\n",
    "        price = N_d1 * S_0 - N_d2 * K * np.exp(-r*T)\n",
    "        Delta = N_d1\n",
    "        Theta = -S_0 * norm.pdf(d1, 0, 1)*sigma/(2*np.sqrt(T)) - r*K*np.exp(-r*T)*N_d2\n",
    "        Rho = K*T*np.exp(-r*T)*N_d2\n",
    "    elif type ==\"put\":\n",
    "        N_d1 = norm.cdf(-d1, 0, 1)\n",
    "        N_d2 = norm.cdf(-d2, 0, 1)\n",
    "        price = K * np.exp(-r * T) * N_d2 - S_0 * N_d1\n",
    "        Delta = - N_d1\n",
    "        Theta = -S_0*norm.pdf(d1, 0, 1)*sigma/(2*np.sqrt(T)) + r*K*np.exp(-r*T)*N_d2\n",
    "        Rho = -K*T*np.exp(-r*T)*N_d2\n",
    "    else:\n",
    "        raise ValueError(\"unknow type\")\n",
    "    \n",
    "    Gamma = norm.pdf(d1, 0, 1)/(S_0*sigma*np.sqrt(T)) \n",
    "    Vega = S_0*norm.pdf(d1, 0, 1)*np.sqrt(T)\n",
    "    \n",
    "    print(\"Option Price: \", [round(price,3)])\n",
    "    print(\"       Delta: \", [round(Delta,3)])\n",
    "    print(\"       Gamma: \", [round(Gamma,3)])\n",
    "    print(\"       Vega : \", [round(Vega,3)])\n",
    "    print(\"       Theta: \", [round(Theta,3)])\n",
    "    print(\"       Rho  : \", [round(Rho,3)])\n",
    "    \n",
    "    return()  "
   ]
  },
  {
   "cell_type": "code",
   "execution_count": 57,
   "id": "835665c3",
   "metadata": {},
   "outputs": [
    {
     "name": "stdout",
     "output_type": "stream",
     "text": [
      "Option Price:  [21.793]\n",
      "       Delta:  [0.637]\n",
      "       Gamma:  [0.008]\n",
      "       Vega :  [37.524]\n",
      "       Theta:  [-11.476]\n",
      "       Rho  :  [41.89]\n"
     ]
    },
    {
     "data": {
      "text/plain": [
       "()"
      ]
     },
     "execution_count": 57,
     "metadata": {},
     "output_type": "execute_result"
    }
   ],
   "source": [
    "black_scholes_analytical_with_greeks(S_0=S_0, K=K, T=T, r=r, sigma=sigma,type=\"call\")"
   ]
  },
  {
   "cell_type": "code",
   "execution_count": null,
   "id": "0e6b4cb8",
   "metadata": {},
   "outputs": [],
   "source": []
  }
 ],
 "metadata": {
  "kernelspec": {
   "display_name": "Python 3 (ipykernel)",
   "language": "python",
   "name": "python3"
  },
  "language_info": {
   "codemirror_mode": {
    "name": "ipython",
    "version": 3
   },
   "file_extension": ".py",
   "mimetype": "text/x-python",
   "name": "python",
   "nbconvert_exporter": "python",
   "pygments_lexer": "ipython3",
   "version": "3.11.4"
  }
 },
 "nbformat": 4,
 "nbformat_minor": 5
}
