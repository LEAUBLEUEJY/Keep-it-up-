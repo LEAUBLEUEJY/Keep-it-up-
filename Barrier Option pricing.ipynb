{
 "cells": [
  {
   "cell_type": "code",
   "execution_count": 93,
   "id": "4e4fe78d",
   "metadata": {},
   "outputs": [],
   "source": [
    "import numpy as np"
   ]
  },
  {
   "cell_type": "code",
   "execution_count": 94,
   "id": "a3094b0f",
   "metadata": {},
   "outputs": [],
   "source": [
    "def simulate_gbm(s_0,mu,sigma,n_sims,T,N,randomseed =3):\n",
    "    \n",
    "    np.random.seed(randomseed)\n",
    "    \n",
    "    dt = T/N\n",
    "    dW = np.random.normal(scale = np.sqrt(dt),size = (n_sims,N))\n",
    "    W = np.cumsum(dW, axis = 1)\n",
    "    \n",
    "    time_step = np.linspace(dt,T,N)\n",
    "    time_steps = np.broadcast_to(time_step,(n_sims,N))\n",
    "    S_t = (s_0 * np.exp((mu - 0.5 * sigma ** 2)*time_steps +sigma *W))\n",
    "    S_t = np.insert(S_t, 0, s_0, axis=1)\n",
    "    \n",
    "    return  S_t"
   ]
  },
  {
   "cell_type": "code",
   "execution_count": 95,
   "id": "417ac3ce",
   "metadata": {},
   "outputs": [],
   "source": [
    "S_0 = 55\n",
    "K = 60\n",
    "BARRIER = 65\n",
    "r = 0.06\n",
    "sigma = 0.2\n",
    "T = 1\n",
    "N = 252\n",
    "dt = T / N\n",
    "N_SIMS = 10 ** 5\n",
    "OPTION_TYPE = \"call\"\n",
    "discount_factor = np.exp(-r * T)"
   ]
  },
  {
   "cell_type": "code",
   "execution_count": 96,
   "id": "a05a2170",
   "metadata": {},
   "outputs": [],
   "source": [
    "gbm_sims = simulate_gbm(s_0=S_0, mu=r, sigma=sigma, \n",
    "                        n_sims=N_SIMS, T=T, N=N)"
   ]
  },
  {
   "cell_type": "code",
   "execution_count": 97,
   "id": "d4ff12fa",
   "metadata": {},
   "outputs": [
    {
     "data": {
      "text/plain": [
       "array([2.29191325, 0.        , 3.55888266, ..., 2.7463855 , 0.        ,\n",
       "       1.32302539])"
      ]
     },
     "execution_count": 97,
     "metadata": {},
     "output_type": "execute_result"
    }
   ],
   "source": [
    "payoff_matrix = np.maximum(gbm_sims[:, -1] - K, 0)\n",
    "payoff_matrix"
   ]
  },
  {
   "cell_type": "code",
   "execution_count": 98,
   "id": "04ff3030",
   "metadata": {},
   "outputs": [
    {
     "data": {
      "text/plain": [
       "array([2.29191325, 0.        , 3.55888266, ..., 2.7463855 , 0.        ,\n",
       "       1.32302539])"
      ]
     },
     "execution_count": 98,
     "metadata": {},
     "output_type": "execute_result"
    }
   ],
   "source": [
    "payoff_matrix"
   ]
  },
  {
   "cell_type": "code",
   "execution_count": 99,
   "id": "cec14a45",
   "metadata": {},
   "outputs": [
    {
     "data": {
      "text/plain": [
       "array([64.16104146, 64.25343095, 71.95776838, ..., 65.57249044,\n",
       "       72.2703556 , 70.00478594])"
      ]
     },
     "execution_count": 99,
     "metadata": {},
     "output_type": "execute_result"
    }
   ],
   "source": [
    "maxperpath = np.max(gbm_sims,axis = 1)\n",
    "maxperpath"
   ]
  },
  {
   "cell_type": "code",
   "execution_count": 100,
   "id": "26ff8150",
   "metadata": {},
   "outputs": [],
   "source": [
    "payoff_matrix = np.where(\n",
    "        maxperpath > BARRIER,\n",
    "        payoff_matrix,\n",
    "        0)"
   ]
  },
  {
   "cell_type": "code",
   "execution_count": 101,
   "id": "3baaf388",
   "metadata": {},
   "outputs": [
    {
     "data": {
      "text/plain": [
       "3.6720645143741497"
      ]
     },
     "execution_count": 101,
     "metadata": {},
     "output_type": "execute_result"
    }
   ],
   "source": [
    "premium = discount_factor * np.mean(payoff_matrix)\n",
    "premium"
   ]
  },
  {
   "cell_type": "code",
   "execution_count": 112,
   "id": "751bcae5",
   "metadata": {},
   "outputs": [],
   "source": [
    "def Barrieroption(s_0,mu,sigma,n_sims,T,N,OptionType,K,BARRIER,BarrierType,randomseed =3):\n",
    "    dt = T / N\n",
    "    discount_factor = np.exp(-r * T)\n",
    "    \n",
    "    ### use geometric brownian motion to get the share price simulation data\n",
    "    gbm_sims = simulate_gbm(s_0=S_0, mu=r, sigma=sigma, n_sims=N_SIMS, T=T, N=N)\n",
    "    \n",
    "    \n",
    "    ###assume no barrier european option final payout\n",
    "    if OptionType == \"call\":\n",
    "        payoff_matrix = np.maximum(gbm_sims[:, -1] - K, 0)\n",
    "    elif OptionType ==\"put\":\n",
    "        payoff_matrix = np.maximum(0,K - gbm_sims[:, -1])\n",
    "    else:\n",
    "         raise ValueError(\"unknow type\")\n",
    "    \n",
    "    ###get option final payoff\n",
    "    if BarrierType == \"UO\":\n",
    "        maxperpath = np.max(gbm_sims,axis = 1)\n",
    "        payoff_matrix = np.where(\n",
    "            maxperpath > BARRIER,\n",
    "            payoff_matrix,\n",
    "            0)\n",
    "    elif BarrierType == \"UI\":\n",
    "        maxperpath = np.max(gbm_sims,axis = 1)\n",
    "        payoff_matrix = np.where(\n",
    "            maxperpath > BARRIER,\n",
    "            0,\n",
    "            payoff_matrix)\n",
    "    elif BarrierType == \"DI\":\n",
    "        minperpath = np.min(gbm_sims,axis = 1)\n",
    "        payoff_matrix = np.where(\n",
    "            minperpath > BARRIER,\n",
    "            0,\n",
    "            payoff_matrix)\n",
    "    elif BarrierType == \"DO\":\n",
    "        minperpath = np.min(gbm_sims,axis = 1)\n",
    "        payoff_matrix = np.where(\n",
    "            minperpath > BARRIER,\n",
    "            payoff_matrix,\n",
    "            0)\n",
    "    else:\n",
    "         raise ValueError(\"unknow type\")\n",
    "    \n",
    "    premium = discount_factor * np.mean(payoff_matrix)\n",
    "    return(premium)"
   ]
  },
  {
   "cell_type": "code",
   "execution_count": 113,
   "id": "ebfd286f",
   "metadata": {},
   "outputs": [
    {
     "data": {
      "text/plain": [
       "3.6720645143741497"
      ]
     },
     "execution_count": 113,
     "metadata": {},
     "output_type": "execute_result"
    }
   ],
   "source": [
    "Barrieroption(55,0.06,0.2,50,1,252,\"call\",60,65,\"UO\")"
   ]
  },
  {
   "cell_type": "markdown",
   "id": "3b287130",
   "metadata": {},
   "source": [
    "QuantLib"
   ]
  },
  {
   "cell_type": "code",
   "execution_count": 116,
   "id": "3dd1c21e",
   "metadata": {},
   "outputs": [],
   "source": [
    "import QuantLib as ql"
   ]
  },
  {
   "cell_type": "code",
   "execution_count": 141,
   "id": "5904db9f",
   "metadata": {},
   "outputs": [],
   "source": [
    "#calendar = ql.UnitedStates()\n",
    "day_counter = ql.Actual365Fixed()"
   ]
  },
  {
   "cell_type": "code",
   "execution_count": 142,
   "id": "ae7bcfbe",
   "metadata": {},
   "outputs": [],
   "source": [
    "valuation_date = ql.Date(1, 1, 2020)\n",
    "expiry_date =  ql.Date(1, 1, 2021)\n",
    "ql.Settings.instance().evaluationDate = valuation_date"
   ]
  },
  {
   "cell_type": "code",
   "execution_count": 143,
   "id": "f5c63393",
   "metadata": {},
   "outputs": [
    {
     "name": "stdout",
     "output_type": "stream",
     "text": [
      "Time to expiry in years: 1.0027397260273974\n"
     ]
    }
   ],
   "source": [
    "T = day_counter.yearFraction(valuation_date, expiry_date)\n",
    "print(f'Time to expiry in years: {T}') "
   ]
  },
  {
   "cell_type": "code",
   "execution_count": 145,
   "id": "ac7fb578",
   "metadata": {},
   "outputs": [
    {
     "data": {
      "text/plain": [
       "0.01623786784466653"
      ]
     },
     "execution_count": 145,
     "metadata": {},
     "output_type": "execute_result"
    }
   ],
   "source": [
    "if OPTION_TYPE == \"call\":\n",
    "    option_type_ql = ql.Option.Call\n",
    "elif OPTION_TYPE == \"put\":\n",
    "    option_type_ql = ql.Option.Put\n",
    "        \n",
    "exercise = ql.EuropeanExercise(expiry_date)\n",
    "payoff = ql.PlainVanillaPayoff(option_type_ql, K)\n",
    "\n",
    "u = ql.SimpleQuote(S_0)\n",
    "r = ql.SimpleQuote(r)\n",
    "sigma = ql.SimpleQuote(sigma)\n",
    "\n",
    "underlying = ql.QuoteHandle(u)\n",
    "volatility = ql.BlackConstantVol(0, ql.TARGET(), \n",
    "                                 ql.QuoteHandle(sigma), \n",
    "                                 day_counter)\n",
    "risk_free_rate = ql.FlatForward(0, ql.TARGET(), \n",
    "                                ql.QuoteHandle(r), \n",
    "                                day_counter)\n",
    "\n",
    "bs_process = ql.BlackScholesProcess(\n",
    "    underlying,\n",
    "    ql.YieldTermStructureHandle(risk_free_rate),\n",
    "    ql.BlackVolTermStructureHandle(volatility),\n",
    ")\n",
    "\n",
    "engine = ql.MCBarrierEngine(bs_process, 'PseudoRandom', timeSteps=N, \n",
    "                            seed=42, \n",
    "                            requiredSamples=N_SIMS)\n",
    "\n",
    "option = ql.BarrierOption(ql.Barrier.UpIn, BARRIER, rebate=0, \n",
    "                          payoff=payoff, exercise=exercise)\n",
    "option.setPricingEngine(engine)\n",
    "\n",
    "option_premium_ql = option.NPV()\n",
    "option_premium_ql"
   ]
  },
  {
   "cell_type": "code",
   "execution_count": null,
   "id": "95887a9d",
   "metadata": {},
   "outputs": [],
   "source": []
  }
 ],
 "metadata": {
  "kernelspec": {
   "display_name": "Python 3 (ipykernel)",
   "language": "python",
   "name": "python3"
  },
  "language_info": {
   "codemirror_mode": {
    "name": "ipython",
    "version": 3
   },
   "file_extension": ".py",
   "mimetype": "text/x-python",
   "name": "python",
   "nbconvert_exporter": "python",
   "pygments_lexer": "ipython3",
   "version": "3.11.4"
  }
 },
 "nbformat": 4,
 "nbformat_minor": 5
}
