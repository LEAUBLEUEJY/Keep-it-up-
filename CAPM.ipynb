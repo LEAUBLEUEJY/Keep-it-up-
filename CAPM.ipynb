{
 "cells": [
  {
   "cell_type": "markdown",
   "id": "3c8de06e-4cf1-4094-aed1-b958e976b517",
   "metadata": {
    "tags": []
   },
   "source": [
    "资本资产定价模型（英语：Capital Asset Pricing Model，缩写：CAPM）又称资本资产价格决定模型，为现代金融市场价格理论的支柱，广泛应用于投资决策和公司理财领域。于1960年代由美国学者威廉·夏普（William Sharpe）、林特尔（John Lintner）、崔诺（Jack Treynor）和莫辛（Jan Mossin）等人在现代投资组合理论的基础上发展。\n",
    "\n",
    "CAPM主张投资组合的回报率只跟系统性风险有关。使用CAPM时，投资组合应已完全多角化，即包含所有风险性资产，如股票及债券，以消除个别证券的非系统性风险。\n",
    "\n",
    "E(r(I)]=r_{f}+beta *[E(r(m))-r(f)],\n",
    "\n",
    "E(r(m))是市场投资组合的期望回报率，通常用股票价格指数回报率的平均值或所有股票的平均回报率来代替\n",
    "\n",
    "E(r(m))-r(f)是市场风险溢价（Risk Premium），即市场投资组合的期望回报率与无风险回报率之差\n",
    "\n",
    "\n",
    "CAPM模型是建立在一系列假设的基础上的，其中主要包括：\n",
    "\n",
    "1. 同素性预期假设，所有投资者拥有相同的预期，即对所有资产回报的均值、方差及协方差等，投资者均有完全相同的预期。\n",
    "2. 所有投资者均可以无风险利率无限制地借入或贷出资金。\n",
    "3. 所有投资者均追求单期财富的期望效用最大化，并以各备选组合的期望收益和标准差为基础进行组合选择。\n",
    "4. 市场拥有充分的流动性且没有交易成本，所有资产均可被完全细分。\n",
    "5. 所有投资者均为价格接受者，即任何一个投资者的买卖行为都不会对股票价格产生影响。\n",
    "6. 资产数量之总和固定。"
   ]
  },
  {
   "cell_type": "markdown",
   "id": "6e73268d-b892-41f3-88b6-8c5b7b3cc15f",
   "metadata": {},
   "source": [
    "Step 1: import libraries"
   ]
  },
  {
   "cell_type": "code",
   "execution_count": 164,
   "id": "b46bfe96-315a-428f-8257-50b36c5877e5",
   "metadata": {
    "tags": []
   },
   "outputs": [],
   "source": [
    "import pandas as pd\n",
    "import yfinance as yf\n",
    "import numpy as np"
   ]
  },
  {
   "cell_type": "markdown",
   "id": "2df5d545-cecf-439d-9fb9-ecef7eda1884",
   "metadata": {
    "tags": []
   },
   "source": [
    "Step 2: acquire data （以亚马逊作为例子，spx作为市场基准）"
   ]
  },
  {
   "cell_type": "markdown",
   "id": "066c68a7-7f1f-406f-b4da-81ff4bb002cd",
   "metadata": {},
   "source": [
    "Compute the Sharpe Ratio, the risk-adjusted returns and the Beta of every stock."
   ]
  },
  {
   "cell_type": "code",
   "execution_count": 165,
   "id": "5484e26c-cc92-4a0a-8583-b6120af02ec6",
   "metadata": {
    "tags": []
   },
   "outputs": [
    {
     "data": {
      "text/html": [
       "<div>\n",
       "<style scoped>\n",
       "    .dataframe tbody tr th:only-of-type {\n",
       "        vertical-align: middle;\n",
       "    }\n",
       "\n",
       "    .dataframe tbody tr th {\n",
       "        vertical-align: top;\n",
       "    }\n",
       "\n",
       "    .dataframe thead th {\n",
       "        text-align: right;\n",
       "    }\n",
       "</style>\n",
       "<table border=\"1\" class=\"dataframe\">\n",
       "  <thead>\n",
       "    <tr style=\"text-align: right;\">\n",
       "      <th></th>\n",
       "      <th>AMZN</th>\n",
       "      <th>^GSPC</th>\n",
       "    </tr>\n",
       "    <tr>\n",
       "      <th>Date</th>\n",
       "      <th></th>\n",
       "      <th></th>\n",
       "    </tr>\n",
       "  </thead>\n",
       "  <tbody>\n",
       "    <tr>\n",
       "      <th>2010-01-04</th>\n",
       "      <td>6.6950</td>\n",
       "      <td>1132.989990</td>\n",
       "    </tr>\n",
       "    <tr>\n",
       "      <th>2010-01-05</th>\n",
       "      <td>6.7345</td>\n",
       "      <td>1136.520020</td>\n",
       "    </tr>\n",
       "    <tr>\n",
       "      <th>2010-01-06</th>\n",
       "      <td>6.6125</td>\n",
       "      <td>1137.140015</td>\n",
       "    </tr>\n",
       "    <tr>\n",
       "      <th>2010-01-07</th>\n",
       "      <td>6.5000</td>\n",
       "      <td>1141.689941</td>\n",
       "    </tr>\n",
       "    <tr>\n",
       "      <th>2010-01-08</th>\n",
       "      <td>6.6760</td>\n",
       "      <td>1144.979980</td>\n",
       "    </tr>\n",
       "  </tbody>\n",
       "</table>\n",
       "</div>"
      ],
      "text/plain": [
       "              AMZN        ^GSPC\n",
       "Date                           \n",
       "2010-01-04  6.6950  1132.989990\n",
       "2010-01-05  6.7345  1136.520020\n",
       "2010-01-06  6.6125  1137.140015\n",
       "2010-01-07  6.5000  1141.689941\n",
       "2010-01-08  6.6760  1144.979980"
      ]
     },
     "execution_count": 165,
     "metadata": {},
     "output_type": "execute_result"
    }
   ],
   "source": [
    "tickers = [\"AMZN\",\"^GSPC\"]\n",
    "mkt= yf.download(tickers, \n",
    "                 start = \"2010-1-1\",\n",
    "                 progress= False)['Adj Close']\n",
    "mkt.head()"
   ]
  },
  {
   "cell_type": "markdown",
   "id": "33ccd3c1-699e-4c9e-9705-6e053f9fdc11",
   "metadata": {
    "tags": []
   },
   "source": [
    "Step 3: log return"
   ]
  },
  {
   "cell_type": "code",
   "execution_count": 172,
   "id": "0379520d-fe9d-4ed9-b1ed-588dfcf3d35f",
   "metadata": {
    "tags": []
   },
   "outputs": [
    {
     "data": {
      "text/html": [
       "<div>\n",
       "<style scoped>\n",
       "    .dataframe tbody tr th:only-of-type {\n",
       "        vertical-align: middle;\n",
       "    }\n",
       "\n",
       "    .dataframe tbody tr th {\n",
       "        vertical-align: top;\n",
       "    }\n",
       "\n",
       "    .dataframe thead th {\n",
       "        text-align: right;\n",
       "    }\n",
       "</style>\n",
       "<table border=\"1\" class=\"dataframe\">\n",
       "  <thead>\n",
       "    <tr style=\"text-align: right;\">\n",
       "      <th></th>\n",
       "      <th>AMZN</th>\n",
       "      <th>^GSPC</th>\n",
       "    </tr>\n",
       "    <tr>\n",
       "      <th>Date</th>\n",
       "      <th></th>\n",
       "      <th></th>\n",
       "    </tr>\n",
       "  </thead>\n",
       "  <tbody>\n",
       "    <tr>\n",
       "      <th>2010-01-05</th>\n",
       "      <td>0.005883</td>\n",
       "      <td>0.003111</td>\n",
       "    </tr>\n",
       "    <tr>\n",
       "      <th>2010-01-06</th>\n",
       "      <td>-0.018282</td>\n",
       "      <td>0.000545</td>\n",
       "    </tr>\n",
       "    <tr>\n",
       "      <th>2010-01-07</th>\n",
       "      <td>-0.017160</td>\n",
       "      <td>0.003993</td>\n",
       "    </tr>\n",
       "    <tr>\n",
       "      <th>2010-01-08</th>\n",
       "      <td>0.026717</td>\n",
       "      <td>0.002878</td>\n",
       "    </tr>\n",
       "    <tr>\n",
       "      <th>2010-01-11</th>\n",
       "      <td>-0.024335</td>\n",
       "      <td>0.001745</td>\n",
       "    </tr>\n",
       "  </tbody>\n",
       "</table>\n",
       "</div>"
      ],
      "text/plain": [
       "                AMZN     ^GSPC\n",
       "Date                          \n",
       "2010-01-05  0.005883  0.003111\n",
       "2010-01-06 -0.018282  0.000545\n",
       "2010-01-07 -0.017160  0.003993\n",
       "2010-01-08  0.026717  0.002878\n",
       "2010-01-11 -0.024335  0.001745"
      ]
     },
     "execution_count": 172,
     "metadata": {},
     "output_type": "execute_result"
    }
   ],
   "source": [
    "logrtn = np.log(1+mkt.pct_change().dropna())  \n",
    "logrtn.head()"
   ]
  },
  {
   "cell_type": "markdown",
   "id": "fde861b5-f04c-4a1b-9243-32c635a70102",
   "metadata": {},
   "source": [
    "Step 4: Compute covariance and market variance. use 252 as annuliza factor"
   ]
  },
  {
   "cell_type": "code",
   "execution_count": 173,
   "id": "2c5c22c5-649f-4111-bbd9-2fb9d7e2902a",
   "metadata": {
    "tags": []
   },
   "outputs": [
    {
     "data": {
      "text/html": [
       "<div>\n",
       "<style scoped>\n",
       "    .dataframe tbody tr th:only-of-type {\n",
       "        vertical-align: middle;\n",
       "    }\n",
       "\n",
       "    .dataframe tbody tr th {\n",
       "        vertical-align: top;\n",
       "    }\n",
       "\n",
       "    .dataframe thead th {\n",
       "        text-align: right;\n",
       "    }\n",
       "</style>\n",
       "<table border=\"1\" class=\"dataframe\">\n",
       "  <thead>\n",
       "    <tr style=\"text-align: right;\">\n",
       "      <th></th>\n",
       "      <th>AMZN</th>\n",
       "      <th>^GSPC</th>\n",
       "    </tr>\n",
       "  </thead>\n",
       "  <tbody>\n",
       "    <tr>\n",
       "      <th>AMZN</th>\n",
       "      <td>0.109139</td>\n",
       "      <td>0.034673</td>\n",
       "    </tr>\n",
       "    <tr>\n",
       "      <th>^GSPC</th>\n",
       "      <td>0.034673</td>\n",
       "      <td>0.031016</td>\n",
       "    </tr>\n",
       "  </tbody>\n",
       "</table>\n",
       "</div>"
      ],
      "text/plain": [
       "           AMZN     ^GSPC\n",
       "AMZN   0.109139  0.034673\n",
       "^GSPC  0.034673  0.031016"
      ]
     },
     "execution_count": 173,
     "metadata": {},
     "output_type": "execute_result"
    }
   ],
   "source": [
    "annfactor = 252\n",
    "covmatrix = logrtn.cov()*annfactor\n",
    "covmatrix"
   ]
  },
  {
   "cell_type": "code",
   "execution_count": 174,
   "id": "e0617279-e6b1-4f59-b61b-7c7cc94dca0c",
   "metadata": {
    "tags": []
   },
   "outputs": [
    {
     "data": {
      "text/plain": [
       "0.03467326251397705"
      ]
     },
     "execution_count": 174,
     "metadata": {},
     "output_type": "execute_result"
    }
   ],
   "source": [
    "cov_with_market = covmatrix.iloc[0,1]\n",
    "cov_with_market"
   ]
  },
  {
   "cell_type": "code",
   "execution_count": 169,
   "id": "1e7b693a-0d0a-4963-b50e-70ffb93ecfbe",
   "metadata": {
    "tags": []
   },
   "outputs": [
    {
     "data": {
      "text/plain": [
       "0.03101608674971406"
      ]
     },
     "execution_count": 169,
     "metadata": {},
     "output_type": "execute_result"
    }
   ],
   "source": [
    "mktvar = logrtn.iloc[:,-1].var()*annfactor #Annualized\n",
    "mktvar"
   ]
  },
  {
   "cell_type": "markdown",
   "id": "c6997551-cc7e-4d35-b036-fc5a83767d97",
   "metadata": {},
   "source": [
    "Step 5: Calculate Beta"
   ]
  },
  {
   "cell_type": "code",
   "execution_count": 170,
   "id": "3cf1f1f1-bb44-4731-b741-02f86edacfbc",
   "metadata": {
    "tags": []
   },
   "outputs": [
    {
     "data": {
      "text/plain": [
       "1.1179122238654657"
      ]
     },
     "execution_count": 170,
     "metadata": {},
     "output_type": "execute_result"
    }
   ],
   "source": [
    "beta = cov_with_market / mktvar\n",
    "beta"
   ]
  },
  {
   "cell_type": "markdown",
   "id": "cc07fb8f-c85f-4075-b5ed-6047a9516e08",
   "metadata": {
    "tags": []
   },
   "source": [
    "Step 6: Expected Return CAPM\n",
    "Assumption: \n",
    "    A 10 year US government bond is a good proxy for a risk-free asset, with a yield of 2.5%"
   ]
  },
  {
   "cell_type": "code",
   "execution_count": 171,
   "id": "268299e4-86c4-4e5e-b770-e97366e89e0d",
   "metadata": {
    "tags": []
   },
   "outputs": [
    {
     "data": {
      "text/plain": [
       "0.10902594187587064"
      ]
     },
     "execution_count": 171,
     "metadata": {},
     "output_type": "execute_result"
    }
   ],
   "source": [
    "rf = 0.025\n",
    "rm = logrtn['^GSPC'].mean() * 252\n",
    "rp = (rm-rf)\n",
    "\n",
    "amazon_capm_return = rf + beta * rp\n",
    "amazon_capm_return"
   ]
  },
  {
   "cell_type": "markdown",
   "id": "34a07407-cefe-4c08-a0ad-7e00eb2ef75e",
   "metadata": {},
   "source": [
    "Step 7: Sharpe Ratio"
   ]
  },
  {
   "cell_type": "code",
   "execution_count": 176,
   "id": "590bb38f-1f72-4120-9761-f5c471d0936e",
   "metadata": {
    "tags": []
   },
   "outputs": [
    {
     "data": {
      "text/plain": [
       "0.2553602485786315"
      ]
     },
     "execution_count": 176,
     "metadata": {},
     "output_type": "execute_result"
    }
   ],
   "source": [
    "stdev_rtn = (logrtn['AMZN'].std()*250**0.5)\n",
    "Sharpe = (amazon_capm_return - rf)/stdev_rtn\n",
    "Sharpe"
   ]
  },
  {
   "cell_type": "markdown",
   "id": "540ca240-c9de-42e9-a705-5bcd92c8b799",
   "metadata": {},
   "source": [
    "Step 8: Create each part as functions"
   ]
  },
  {
   "cell_type": "markdown",
   "id": "5f8f37e9-47c5-42bb-8859-452fee4bba5b",
   "metadata": {},
   "source": [
    "Import data:"
   ]
  },
  {
   "cell_type": "code",
   "execution_count": 177,
   "id": "c38bd7f1-ab46-4621-9cf1-478104703e11",
   "metadata": {
    "tags": []
   },
   "outputs": [],
   "source": [
    "from datetime import datetime"
   ]
  },
  {
   "cell_type": "code",
   "execution_count": 178,
   "id": "078c6ce0-21cf-4a23-98c0-e0f972bc3e66",
   "metadata": {
    "tags": []
   },
   "outputs": [],
   "source": [
    "def import_stock_data(tickers, start = '2010-1-1', end = datetime.today().strftime('%Y-%m-%d')):\n",
    "    data = pd.DataFrame()\n",
    "    if len([tickers]) ==1:\n",
    "        data[tickers] = yf.download(tickers, start = start)['Adj Close']\n",
    "        data = pd.DataFrame(data)\n",
    "    else:\n",
    "        for t in tickers:\n",
    "            data[t] = yf.download(t, start = start)['Adj Close']\n",
    "    return(data)"
   ]
  },
  {
   "cell_type": "code",
   "execution_count": 179,
   "id": "00e60b5d-154c-4cd5-9633-460133af9b1b",
   "metadata": {
    "tags": []
   },
   "outputs": [
    {
     "name": "stdout",
     "output_type": "stream",
     "text": [
      "[*********************100%%**********************]  2 of 2 completed\n"
     ]
    },
    {
     "data": {
      "text/html": [
       "<div>\n",
       "<style scoped>\n",
       "    .dataframe tbody tr th:only-of-type {\n",
       "        vertical-align: middle;\n",
       "    }\n",
       "\n",
       "    .dataframe tbody tr th {\n",
       "        vertical-align: top;\n",
       "    }\n",
       "\n",
       "    .dataframe thead th {\n",
       "        text-align: right;\n",
       "    }\n",
       "</style>\n",
       "<table border=\"1\" class=\"dataframe\">\n",
       "  <thead>\n",
       "    <tr style=\"text-align: right;\">\n",
       "      <th></th>\n",
       "      <th>AMZN</th>\n",
       "      <th>^GSPC</th>\n",
       "    </tr>\n",
       "    <tr>\n",
       "      <th>Date</th>\n",
       "      <th></th>\n",
       "      <th></th>\n",
       "    </tr>\n",
       "  </thead>\n",
       "  <tbody>\n",
       "    <tr>\n",
       "      <th>2010-01-04</th>\n",
       "      <td>6.6950</td>\n",
       "      <td>1132.989990</td>\n",
       "    </tr>\n",
       "    <tr>\n",
       "      <th>2010-01-05</th>\n",
       "      <td>6.7345</td>\n",
       "      <td>1136.520020</td>\n",
       "    </tr>\n",
       "    <tr>\n",
       "      <th>2010-01-06</th>\n",
       "      <td>6.6125</td>\n",
       "      <td>1137.140015</td>\n",
       "    </tr>\n",
       "    <tr>\n",
       "      <th>2010-01-07</th>\n",
       "      <td>6.5000</td>\n",
       "      <td>1141.689941</td>\n",
       "    </tr>\n",
       "    <tr>\n",
       "      <th>2010-01-08</th>\n",
       "      <td>6.6760</td>\n",
       "      <td>1144.979980</td>\n",
       "    </tr>\n",
       "  </tbody>\n",
       "</table>\n",
       "</div>"
      ],
      "text/plain": [
       "              AMZN        ^GSPC\n",
       "Date                           \n",
       "2010-01-04  6.6950  1132.989990\n",
       "2010-01-05  6.7345  1136.520020\n",
       "2010-01-06  6.6125  1137.140015\n",
       "2010-01-07  6.5000  1141.689941\n",
       "2010-01-08  6.6760  1144.979980"
      ]
     },
     "execution_count": 179,
     "metadata": {},
     "output_type": "execute_result"
    }
   ],
   "source": [
    "data = import_stock_data([\"AMZN\",\"^GSPC\"])\n",
    "data.head()"
   ]
  },
  {
   "cell_type": "code",
   "execution_count": 180,
   "id": "ff61032a-c40b-48f5-bc58-65937b009f0e",
   "metadata": {
    "tags": []
   },
   "outputs": [],
   "source": [
    "def calcbeta(data, stock, market,annfactor = 252):\n",
    "    logrtn = np.log(1+data.pct_change().dropna())\n",
    "    covmatrix = logrtn.cov()*250\n",
    "    cov_w_market = covmatrix.loc[stock,market]\n",
    "    market_var = logrtn[market].var()*250\n",
    "    beta = cov_w_market / market_var\n",
    "    return(beta)"
   ]
  },
  {
   "cell_type": "code",
   "execution_count": 181,
   "id": "47d32f9c-a910-428b-ba99-c2ada8cf10fd",
   "metadata": {
    "tags": []
   },
   "outputs": [
    {
     "data": {
      "text/plain": [
       "1.1179122238654657"
      ]
     },
     "execution_count": 181,
     "metadata": {},
     "output_type": "execute_result"
    }
   ],
   "source": [
    "beta = calcbeta(data,\"AMZN\",\"^GSPC\")\n",
    "beta"
   ]
  },
  {
   "cell_type": "code",
   "execution_count": 182,
   "id": "35a5cf65-05ab-4ff2-82f0-20c31c323480",
   "metadata": {
    "tags": []
   },
   "outputs": [],
   "source": [
    "def calccapm(data, stock, market, rf = 0.025,annfactor = 252):\n",
    "    logrtn = np.log(1+data.pct_change().dropna())\n",
    "    riskpremium = (logrtn[market].mean()*annfactor) - rf\n",
    "    beta = calcbeta(data, stock, market)\n",
    "    capmreturn = rf +beta * riskpremium\n",
    "    return (capmreturn)"
   ]
  },
  {
   "cell_type": "code",
   "execution_count": 183,
   "id": "20f80b5c-e9c1-44e6-afe0-f4d7c06cbf24",
   "metadata": {
    "tags": []
   },
   "outputs": [
    {
     "data": {
      "text/plain": [
       "0.10902594187587064"
      ]
     },
     "execution_count": 183,
     "metadata": {},
     "output_type": "execute_result"
    }
   ],
   "source": [
    "calccapm(data,\"AMZN\",\"^GSPC\")"
   ]
  },
  {
   "cell_type": "code",
   "execution_count": 184,
   "id": "f716e551-73d4-4ee8-bf8a-61c041c4b5fd",
   "metadata": {
    "tags": []
   },
   "outputs": [],
   "source": [
    "def calcsharpe(data, stock, market, rf = 0.025,annfactor = 252):\n",
    "    logrtn = np.log(1+data.pct_change().dropna())\n",
    "    estrtn = calccapm(data, stock, market)\n",
    "    stdev_rtn = (logrtn[stock].std()*annfactor**0.5)\n",
    "    sharpe = (estrtn - rf)/stdev_rtn\n",
    "    return (estrtn)"
   ]
  },
  {
   "cell_type": "code",
   "execution_count": 185,
   "id": "c247ba9a-db2b-4d29-b48e-e0b80dca14b7",
   "metadata": {
    "tags": []
   },
   "outputs": [
    {
     "data": {
      "text/plain": [
       "0.10902594187587064"
      ]
     },
     "execution_count": 185,
     "metadata": {},
     "output_type": "execute_result"
    }
   ],
   "source": [
    "calcsharpe(data,\"AMZN\",\"^GSPC\")"
   ]
  },
  {
   "cell_type": "code",
   "execution_count": 186,
   "id": "b76214a3-e719-473b-a696-a8d293fdeb83",
   "metadata": {
    "tags": []
   },
   "outputs": [],
   "source": [
    "def stock_capm(stktck,mkttck = \"^GSPC\", start = '2010-1-1', end = datetime.today().strftime('%Y-%m-%d'),rf = 0.025,annfactor = 252):\n",
    "    data = import_stock_data([stktck,mkttck])\n",
    "    beta = calcbeta(data,stktck,mkttck)\n",
    "    capm = calccapm(data,stktck,mkttck)\n",
    "    sharpe = calcsharpe(data,stktck,mkttck)\n",
    "    capmdata = pd.DataFrame([beta,capm,sharpe], columns=[stktck], index=['Beta','Return','Sharpe'])\n",
    "    return capmdata.T"
   ]
  },
  {
   "cell_type": "code",
   "execution_count": 187,
   "id": "51710f13-ff9b-4230-958b-0857b3ad89de",
   "metadata": {
    "tags": []
   },
   "outputs": [
    {
     "name": "stdout",
     "output_type": "stream",
     "text": [
      "[*********************100%%**********************]  2 of 2 completed\n"
     ]
    },
    {
     "data": {
      "text/html": [
       "<div>\n",
       "<style scoped>\n",
       "    .dataframe tbody tr th:only-of-type {\n",
       "        vertical-align: middle;\n",
       "    }\n",
       "\n",
       "    .dataframe tbody tr th {\n",
       "        vertical-align: top;\n",
       "    }\n",
       "\n",
       "    .dataframe thead th {\n",
       "        text-align: right;\n",
       "    }\n",
       "</style>\n",
       "<table border=\"1\" class=\"dataframe\">\n",
       "  <thead>\n",
       "    <tr style=\"text-align: right;\">\n",
       "      <th></th>\n",
       "      <th>Beta</th>\n",
       "      <th>Return</th>\n",
       "      <th>Sharpe</th>\n",
       "    </tr>\n",
       "  </thead>\n",
       "  <tbody>\n",
       "    <tr>\n",
       "      <th>AMZN</th>\n",
       "      <td>1.117912</td>\n",
       "      <td>0.109026</td>\n",
       "      <td>0.109026</td>\n",
       "    </tr>\n",
       "  </tbody>\n",
       "</table>\n",
       "</div>"
      ],
      "text/plain": [
       "          Beta    Return    Sharpe\n",
       "AMZN  1.117912  0.109026  0.109026"
      ]
     },
     "execution_count": 187,
     "metadata": {},
     "output_type": "execute_result"
    }
   ],
   "source": [
    "stock_capm(\"AMZN\")"
   ]
  },
  {
   "cell_type": "code",
   "execution_count": null,
   "id": "3d144ba3-6cf3-4f36-adb0-7d1e0e7c8603",
   "metadata": {},
   "outputs": [],
   "source": []
  },
  {
   "cell_type": "code",
   "execution_count": null,
   "id": "0dca2adb-be25-4f50-b581-540c5c90cc31",
   "metadata": {},
   "outputs": [],
   "source": []
  }
 ],
 "metadata": {
  "kernelspec": {
   "display_name": "Python 3 (ipykernel)",
   "language": "python",
   "name": "python3"
  },
  "language_info": {
   "codemirror_mode": {
    "name": "ipython",
    "version": 3
   },
   "file_extension": ".py",
   "mimetype": "text/x-python",
   "name": "python",
   "nbconvert_exporter": "python",
   "pygments_lexer": "ipython3",
   "version": "3.11.4"
  }
 },
 "nbformat": 4,
 "nbformat_minor": 5
}
